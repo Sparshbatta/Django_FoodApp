{
  "nbformat": 4,
  "nbformat_minor": 0,
  "metadata": {
    "colab": {
      "name": "191306_Assignment3.ipynb",
      "provenance": [],
      "collapsed_sections": []
    },
    "kernelspec": {
      "name": "python3",
      "display_name": "Python 3"
    }
  },
  "cells": [
    {
      "cell_type": "markdown",
      "metadata": {
        "id": "lmF6kMD11uH9"
      },
      "source": [
        "Question 1: Write a function."
      ]
    },
    {
      "cell_type": "code",
      "metadata": {
        "id": "MvlFeJ0M1eEN"
      },
      "source": [
        "def is_leap(year):\n",
        "    leap = False\n",
        "    \n",
        "    if(year % 400 == 0):\n",
        "        leap = True\n",
        "    elif(year % 4 == 0 and year % 100 != 0):\n",
        "        leap = True\n",
        "    \n",
        "    return leap"
      ],
      "execution_count": null,
      "outputs": []
    },
    {
      "cell_type": "markdown",
      "metadata": {
        "id": "7n7bBekP10Jc"
      },
      "source": [
        "Question 2: The Minion Game"
      ]
    },
    {
      "cell_type": "code",
      "metadata": {
        "id": "7NVKkK2t13BJ"
      },
      "source": [
        "def minion_game(string):\n",
        "    vowels = 'AEIOU'\n",
        "    kev = 0\n",
        "    stu = 0\n",
        "    for i in range(len(s)):\n",
        "        if s[i] in vowels:\n",
        "            kev += (len(s)-i)\n",
        "        else:\n",
        "            stu += (len(s)-i)\n",
        "    if kev > stu:\n",
        "        print(\"Kevin\", kev)\n",
        "    elif kev < stu:\n",
        "        print(\"Stuart\", stu)\n",
        "    else:\n",
        "        print(\"Draw\")"
      ],
      "execution_count": null,
      "outputs": []
    },
    {
      "cell_type": "markdown",
      "metadata": {
        "id": "V_1j2AMd2wG0"
      },
      "source": [
        "Question 3: Merge the Tools!"
      ]
    },
    {
      "cell_type": "code",
      "metadata": {
        "id": "sR76dfru2ya2"
      },
      "source": [
        "def merge_the_tools(string, k):\n",
        "    for i in range(0,len(string), k):\n",
        "        line = string[i:i+k]\n",
        "        seen = set()\n",
        "        for i in line:\n",
        "            if i not in seen:\n",
        "                print(i, end='')\n",
        "                seen.add(i)\n",
        "        print()"
      ],
      "execution_count": null,
      "outputs": []
    },
    {
      "cell_type": "markdown",
      "metadata": {
        "id": "xokepGnM3nde"
      },
      "source": [
        "Question 4: Time Delta"
      ]
    },
    {
      "cell_type": "code",
      "metadata": {
        "id": "i_mk4JWu3rOa"
      },
      "source": [
        "from datetime import datetime as dt\n",
        "fmt = '%a %d %b %Y %H:%M:%S %z'\n",
        "for i in range(int(input())):\n",
        "    print(int(abs((dt.strptime(input(), fmt) - dt.strptime(input(), fmt)).total_seconds())))"
      ],
      "execution_count": null,
      "outputs": []
    },
    {
      "cell_type": "markdown",
      "metadata": {
        "id": "9VfKZlnV53Tx"
      },
      "source": [
        "Question 5: Find Angle MBC"
      ]
    },
    {
      "cell_type": "code",
      "metadata": {
        "id": "Mqyq33te56iH"
      },
      "source": [
        "import math \n",
        "AB = int(input()) \n",
        "BC = int(input()) \n",
        "print(str(int(round(math.degrees(math.atan2(AB,BC)))))+'°')"
      ],
      "execution_count": null,
      "outputs": []
    },
    {
      "cell_type": "markdown",
      "metadata": {
        "id": "tmBaDaPt66mR"
      },
      "source": [
        "Question 6: No Idea!"
      ]
    },
    {
      "cell_type": "code",
      "metadata": {
        "id": "0Ub-g5BR68L7"
      },
      "source": [
        "n, m = input().split()\n",
        "sc_ar = input().split()\n",
        "A = set(input().split())\n",
        "B = set(input().split())\n",
        "print(sum([(i in A) - (i in B) for i in sc_ar]))"
      ],
      "execution_count": null,
      "outputs": []
    }
  ]
}